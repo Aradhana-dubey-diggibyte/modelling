{
 "cells": [
  {
   "cell_type": "code",
   "execution_count": 0,
   "metadata": {
    "application/vnd.databricks.v1+cell": {
     "cellMetadata": {
      "byteLimit": 2048000,
      "implicitDf": true,
      "rowLimit": 10000
     },
     "inputWidgets": {},
     "nuid": "684832a1-1391-4013-afbf-aa90cd674226",
     "showTitle": false,
     "tableResultSettingsMap": {},
     "title": ""
    }
   },
   "outputs": [],
   "source": [
    "%sql\n",
    "select * from silver_transactions"
   ]
  },
  {
   "cell_type": "code",
   "execution_count": 0,
   "metadata": {
    "application/vnd.databricks.v1+cell": {
     "cellMetadata": {
      "byteLimit": 2048000,
      "implicitDf": true,
      "rowLimit": 10000
     },
     "inputWidgets": {},
     "nuid": "475a4d0d-63e6-4898-b16b-1e8d68e72b46",
     "showTitle": false,
     "tableResultSettingsMap": {},
     "title": ""
    }
   },
   "outputs": [],
   "source": [
    "%sql\n",
    "select * from silver_users"
   ]
  },
  {
   "cell_type": "code",
   "execution_count": 0,
   "metadata": {
    "application/vnd.databricks.v1+cell": {
     "cellMetadata": {
      "byteLimit": 2048000,
      "rowLimit": 10000
     },
     "inputWidgets": {},
     "nuid": "674a6c2c-842a-439e-aa0f-03a7654570fb",
     "showTitle": false,
     "tableResultSettingsMap": {},
     "title": ""
    }
   },
   "outputs": [],
   "source": [
    "trans_dim = spark.read.table(\"silver_transactions\")\n",
    "display(trans_dim)"
   ]
  },
  {
   "cell_type": "code",
   "execution_count": 0,
   "metadata": {
    "application/vnd.databricks.v1+cell": {
     "cellMetadata": {
      "byteLimit": 2048000,
      "rowLimit": 10000
     },
     "inputWidgets": {},
     "nuid": "f04914ed-d753-4cc7-8882-8bd2887f216a",
     "showTitle": false,
     "tableResultSettingsMap": {},
     "title": ""
    }
   },
   "outputs": [],
   "source": [
    "user_dim=spark.read.table(\"silver_users\")\n",
    "display(user_dim)"
   ]
  },
  {
   "cell_type": "code",
   "execution_count": 0,
   "metadata": {
    "application/vnd.databricks.v1+cell": {
     "cellMetadata": {
      "byteLimit": 2048000,
      "rowLimit": 10000
     },
     "inputWidgets": {},
     "nuid": "960d6479-9604-4495-b2ea-01e18a0a781a",
     "showTitle": false,
     "tableResultSettingsMap": {},
     "title": ""
    }
   },
   "outputs": [],
   "source": [
    "user_dim = spark.read.table(\"silver_users\").dropDuplicates([\"user_id\"])\n",
    "merchant_dim = spark.read.table(\"silver_transactions\").select(\n",
    "    \"merchant_id\",\n",
    "    \"merchant_name\",\n",
    "    \"merchant_city\",\n",
    "    \"merchant_state\"\n",
    ").dropDuplicates([\"merchant_id\"])\n",
    "\n",
    "fact_transactions = spark.read.table(\"silver_transactions\").select(\n",
    "    \"transaction_id\",\n",
    "    \"user_id\",\n",
    "    \"merchant_id\",\n",
    "    \"amount\",\n",
    "    \"date_clean\"\n",
    ")\n"
   ]
  },
  {
   "cell_type": "code",
   "execution_count": 0,
   "metadata": {
    "application/vnd.databricks.v1+cell": {
     "cellMetadata": {},
     "inputWidgets": {},
     "nuid": "7280647f-33a3-4531-85a8-79e9df641439",
     "showTitle": false,
     "tableResultSettingsMap": {},
     "title": ""
    }
   },
   "outputs": [],
   "source": [
    "user_dim_clean = user_dim.dropna(subset=[\"user_id\"]).dropDuplicates([\"user_id\"])\n",
    "user_dim_clean.write.format(\"delta\").mode(\"overwrite\").saveAsTable(\"gold_user_dim\")\n",
    "merchant_dim.write.format(\"delta\").mode(\"overwrite\").saveAsTable(\"gold_merchant_dim\")\n",
    "fact_transactions.write.format(\"delta\").mode(\"overwrite\").saveAsTable(\"gold_fact_transactions\")"
   ]
  }
 ],
 "metadata": {
  "application/vnd.databricks.v1+notebook": {
   "computePreferences": null,
   "dashboards": [],
   "environmentMetadata": {
    "base_environment": "",
    "environment_version": "3"
   },
   "inputWidgetPreferences": null,
   "language": "python",
   "notebookMetadata": {
    "mostRecentlyExecutedCommandWithImplicitDF": {
     "commandId": 5804641080139997,
     "dataframes": [
      "_sqldf"
     ]
    },
    "pythonIndentUnit": 4
   },
   "notebookName": "layer3gold",
   "widgets": {}
  },
  "language_info": {
   "name": "python"
  }
 },
 "nbformat": 4,
 "nbformat_minor": 0
}
